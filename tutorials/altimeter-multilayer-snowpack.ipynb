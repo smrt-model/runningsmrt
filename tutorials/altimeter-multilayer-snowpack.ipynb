{
 "cells": [
  {
   "cell_type": "markdown",
   "metadata": {},
   "source": [
    "Advanced altimetric computations in SMRT\n",
    "==========================================\n",
    "\n",
    "Here we show how to run the altimetric computation with a multi-layered snowpack having a rough surface"
   ]
  },
  {
   "cell_type": "code",
   "execution_count": null,
   "metadata": {},
   "outputs": [],
   "source": [
    "import numpy as np\n",
    "from smrt import make_snowpack,  make_interface, make_model, make_soil, GHz\n",
    "\n",
    "from smrt.inputs.altimeter_list import saral_altika, envisat_ra2\n",
    "\n",
    "%matplotlib widget\n",
    "import matplotlib.pyplot as plt"
   ]
  },
  {
   "cell_type": "markdown",
   "metadata": {},
   "source": [
    "Let define the snowpack and add a rough surface using the IEM model"
   ]
  },
  {
   "cell_type": "code",
   "execution_count": null,
   "metadata": {},
   "outputs": [],
   "source": [
    "thickness = [0.5, 0.5, 2, 10]\n",
    "radius = [300e-6, 400e-6, 500e-6, 700e-6]\n",
    "density = [250, 300, 350, 400]\n",
    "\n",
    "iem = make_interface(\"iem_fung92_brogioni10\", roughness_rms=0.6e-2, corr_length=5e-2)\n",
    "\n",
    "snowpack = make_snowpack(thickness, \"sticky_hard_spheres\", radius=radius, density=density, temperature=270, interface=iem)\n",
    "\n"
   ]
  },
  {
   "cell_type": "code",
   "execution_count": null,
   "metadata": {},
   "outputs": [],
   "source": [
    "sensor = envisat_ra2('Ku')\n",
    "\n",
    "m = make_model(\"iba\", \"nadir_lrm_altimetry\")\n",
    "\n",
    "res = m.run(sensor, snowpack)\n"
   ]
  },
  {
   "cell_type": "code",
   "execution_count": null,
   "metadata": {},
   "outputs": [],
   "source": [
    "plt.figure()\n",
    "plt.plot(res.t_gate * 1e9, res.sigma())\n",
    "plt.xlabel('Time (ns)')\n",
    "plt.ylabel('Backscatter')\n"
   ]
  },
  {
   "cell_type": "markdown",
   "metadata": {},
   "source": [
    "We often want to split the contributions from the surface, volume and internal interfaces. This is done with an option to the RT solver.  See nadir_lrm_altimetry for other (less usefull) options."
   ]
  },
  {
   "cell_type": "code",
   "execution_count": null,
   "metadata": {},
   "outputs": [],
   "source": [
    "m = make_model(\"iba\", \"nadir_lrm_altimetry\",\n",
    "               rtsolver_options=dict(return_contributions=True))\n",
    "\n",
    "res = m.run(sensor, snowpack)"
   ]
  },
  {
   "cell_type": "code",
   "execution_count": null,
   "metadata": {},
   "outputs": [],
   "source": [
    "plt.figure()\n",
    "plt.plot(res.t_gate * 1e9, res.sigma(contribution='total'), 'k', label='total')\n",
    "plt.plot(res.t_gate * 1e9, res.sigma(contribution='volume'), label='volume')\n",
    "plt.plot(res.t_gate * 1e9, res.sigma(contribution='surface'), label='surface')\n",
    "plt.plot(res.t_gate * 1e9, res.sigma(contribution='interfaces'), label='interface')\n",
    "plt.xlabel('Time (ns)')\n",
    "plt.ylabel('Backscatter')\n",
    "plt.legend()"
   ]
  }
 ],
 "metadata": {
  "kernelspec": {
   "display_name": "Python (smrt)",
   "language": "python",
   "name": "smrt"
  },
  "language_info": {
   "codemirror_mode": {
    "name": "ipython",
    "version": 3
   },
   "file_extension": ".py",
   "mimetype": "text/x-python",
   "name": "python",
   "nbconvert_exporter": "python",
   "pygments_lexer": "ipython3",
   "version": "3.9.10"
  }
 },
 "nbformat": 4,
 "nbformat_minor": 4
}
