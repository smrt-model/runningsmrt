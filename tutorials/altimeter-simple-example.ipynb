{
 "cells": [
  {
   "cell_type": "markdown",
   "metadata": {},
   "source": [
    "Altimetric computations in SMRT\n",
    "================================\n",
    "\n",
    "\n",
    "The computation of the altimetric waveform with SMRT is as simple as for other types of sensors.\n",
    "\n",
    "Only two main changes are required:\n",
    "    - select an altimetric sensor in smrt.input.altimeter_list or define one on you own.\n",
    "    - use the \"nadri_lrm_altimetry\" RT solver instead of \"dort\" to make_model.\n"
   ]
  },
  {
   "cell_type": "code",
   "execution_count": null,
   "metadata": {},
   "outputs": [],
   "source": [
    "import numpy as np\n",
    "\n",
    "from smrt import make_snowpack, sensor_list, make_model\n",
    "\n",
    "import sys\n",
    "from smrt.inputs.altimeter_list import envisat_ra2\n",
    "\n",
    "import matplotlib.pyplot as plt\n",
    "%matplotlib widget"
   ]
  },
  {
   "cell_type": "code",
   "execution_count": null,
   "metadata": {},
   "outputs": [],
   "source": [
    "th = [0.3, 0.3, 0.3, 10]\n",
    "radius = [100e-6, 150e-6, 200e-6, 200e-6]\n",
    "density = [200, 300, 350, 400]\n",
    "\n",
    "snowpack = make_snowpack(thickness=th,\n",
    "                         microstructure_model=\"sticky_hard_spheres\", \n",
    "                         radius=radius, density=density,\n",
    "                         stickiness=2.1, temperature=260)"
   ]
  },
  {
   "cell_type": "markdown",
   "metadata": {},
   "source": [
    "The snowpack is defined as usual. The main difference is in the next two lines, we select the envisat_ra2 altimeter and we use the \"nadir_lrm_altimetry\" where we'd usually use \"dort\" for other passive sensor and (total backscatter) radars."
   ]
  },
  {
   "cell_type": "code",
   "execution_count": null,
   "metadata": {},
   "outputs": [],
   "source": [
    "sensor = envisat_ra2('Ku')\n",
    "\n",
    "m = make_model(\"iba\", \"nadir_lrm_altimetry\")\n",
    "\n",
    "res = m.run(sensor, snowpack)"
   ]
  },
  {
   "cell_type": "code",
   "execution_count": null,
   "metadata": {},
   "outputs": [],
   "source": [
    "plt.figure()\n",
    "plt.plot(res.t_gate * 1e9, res.sigma())\n",
    "plt.xlabel('Time (ns)')\n",
    "plt.ylabel('Backscatter')\n"
   ]
  },
  {
   "cell_type": "markdown",
   "metadata": {},
   "source": []
  }
 ],
 "metadata": {
  "kernelspec": {
   "display_name": "Python (smrt)",
   "language": "python",
   "name": "smrt"
  },
  "language_info": {
   "codemirror_mode": {
    "name": "ipython",
    "version": 3
   },
   "file_extension": ".py",
   "mimetype": "text/x-python",
   "name": "python",
   "nbconvert_exporter": "python",
   "pygments_lexer": "ipython3",
   "version": "3.9.10"
  }
 },
 "nbformat": 4,
 "nbformat_minor": 4
}
