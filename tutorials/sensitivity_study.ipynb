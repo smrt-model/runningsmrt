{
 "cells": [
  {
   "cell_type": "markdown",
   "metadata": {
    "tags": [],
    "toc": "true"
   },
   "source": [
    "# Table of Contents\n",
    "\n",
    "- Build a list of snowpack\n",
    "- Build a DataFrame of snowpack"
   ]
  },
  {
   "cell_type": "markdown",
   "metadata": {},
   "source": [
    "**How to run a sensitivity study on snowpack properties ?**\n",
    "\n",
    "SMRT is able to run the model for a sensor that have a list of frequencies, angles or polarization automatically. However, for snowpack properties setting for instance the corr_length in a layer to a list (or array) does not work (yet). It is necessary to do a little more programming, but it is not so complex.\n",
    "\n",
    "First import the various module we always need:"
   ]
  },
  {
   "cell_type": "code",
   "execution_count": null,
   "metadata": {
    "collapsed": false,
    "jupyter": {
     "outputs_hidden": false
    }
   },
   "outputs": [],
   "source": [
    "import numpy as np\n",
    "import pandas as pd\n",
    "\n",
    "import smrt\n",
    "import matplotlib.pyplot as plt\n",
    "%matplotlib widget"
   ]
  },
  {
   "cell_type": "markdown",
   "metadata": {},
   "source": [
    "Build a list of snowpack\n",
    "==========================\n",
    "\n",
    "We want to test the sensitivity of TB's to the corr_length. We first build a list of snowpack with different corr_length"
   ]
  },
  {
   "cell_type": "code",
   "execution_count": null,
   "metadata": {
    "collapsed": false,
    "jupyter": {
     "outputs_hidden": false
    }
   },
   "outputs": [],
   "source": [
    "# prepare the snowpack\n",
    "density = 300.0\n",
    "corr_length = np.arange(0, 0.5, 0.01) * 1e-3  # from 0 to 0.5mm\n",
    "\n",
    "# the naive way: without list comprehension\n",
    "\n",
    "snowpack = list()\n",
    "for x in corr_length:\n",
    "    sp = smrt.make_snowpack([1000], \"exponential\", density=[density], temperature=[265], corr_length=x)\n",
    "    snowpack.append(sp)"
   ]
  },
  {
   "cell_type": "markdown",
   "metadata": {},
   "source": [
    "A better way is to use list comprehension. To achieve the same as these latter 4 last lines:"
   ]
  },
  {
   "cell_type": "code",
   "execution_count": null,
   "metadata": {
    "collapsed": false,
    "jupyter": {
     "outputs_hidden": false
    }
   },
   "outputs": [],
   "source": [
    "# the one-liner one: with list comprehension (start reading by the end)\n",
    "snowpack = [smrt.make_snowpack([1000], \"exponential\", density=[density], temperature=[265], corr_length=x) for x in corr_length]"
   ]
  },
  {
   "cell_type": "markdown",
   "metadata": {},
   "source": [
    "Run the model\n",
    "================\n",
    "\n",
    "Let's first define a model and a sensor. "
   ]
  },
  {
   "cell_type": "code",
   "execution_count": null,
   "metadata": {
    "collapsed": false,
    "jupyter": {
     "outputs_hidden": false
    }
   },
   "outputs": [],
   "source": [
    "model = smrt.make_model(\"iba\", \"dort\")\n",
    "sensor = smrt.sensor_list.passive(37e9, 55)"
   ]
  },
  {
   "cell_type": "markdown",
   "metadata": {},
   "source": [
    "Running the model with a list of snowpack is possible and even the recommended way. It is more efficient (with parallel_computation=True) and the `results` object contains all the simulation results."
   ]
  },
  {
   "cell_type": "code",
   "execution_count": null,
   "metadata": {
    "collapsed": false,
    "jupyter": {
     "outputs_hidden": false
    },
    "scrolled": true
   },
   "outputs": [],
   "source": [
    "results = model.run(sensor, snowpack, snowpack_dimension=('corr_length', corr_length))\n",
    "print(type(results))  # look results is a Result\n",
    "print()\n",
    "print(results.coords) # look, we have several coordinates, one is call corr_legn"
   ]
  },
  {
   "cell_type": "markdown",
   "metadata": {},
   "source": [
    "Now we can call TbV() directly because we have a Result instance"
   ]
  },
  {
   "cell_type": "code",
   "execution_count": null,
   "metadata": {
    "collapsed": false,
    "jupyter": {
     "outputs_hidden": false
    }
   },
   "outputs": [],
   "source": [
    "plt.figure()\n",
    "plt.plot(corr_length, results.TbV())"
   ]
  },
  {
   "cell_type": "markdown",
   "metadata": {},
   "source": [
    "Build a DataFrame of snowpack\n",
    "==============================\n",
    "\n",
    "Using pandas with SMRT provides even easier way to run many simulations with complex dependence or multi-variation sensitivity anylisis"
   ]
  },
  {
   "cell_type": "code",
   "execution_count": null,
   "metadata": {
    "tags": []
   },
   "outputs": [],
   "source": [
    "# start with a DataFrame with the main parameters\n",
    "# here we consider only one parameter\n",
    "snowpack_df = pd.DataFrame({'corr_length': np.arange(0, 0.5, 0.01) * 1e-3})  # from 0 to 0.5mm\n",
    "\n",
    "# build the snowpacks and create a column in the dataframe.\n",
    "\n",
    "\n",
    "snowpack_df['snowpack'] = [smrt.make_snowpack([1000], \"exponential\",\n",
    "                                     density=[density], \n",
    "                                     temperature=[265],\n",
    "                                     corr_length=row['corr_length']) for i, row in snowpack_df.iterrows()]\n",
    "\n",
    "snowpack_df.head()"
   ]
  },
  {
   "cell_type": "code",
   "execution_count": null,
   "metadata": {},
   "outputs": [],
   "source": [
    "# run the model and convert the results to a dataframe\n",
    "sensor = smrt.sensor_list.amsre(['19', '37'])\n",
    "\n",
    "results = model.run(sensor, snowpack_df).to_dataframe()\n",
    "print(type(results))  # look results is a Result\n",
    "print()\n",
    "results.set_index('corr_length')  # look, we have several coordinates, one is call corr_legn"
   ]
  }
 ],
 "metadata": {
  "anaconda-cloud": {},
  "hide_input": false,
  "kernelspec": {
   "display_name": "Python 3 (ipykernel)",
   "language": "python",
   "name": "python3"
  },
  "language_info": {
   "codemirror_mode": {
    "name": "ipython",
    "version": 3
   },
   "file_extension": ".py",
   "mimetype": "text/x-python",
   "name": "python",
   "nbconvert_exporter": "python",
   "pygments_lexer": "ipython3",
   "version": "3.9.9"
  },
  "nav_menu": {},
  "toc": {
   "navigate_menu": true,
   "number_sections": true,
   "sideBar": true,
   "threshold": 6,
   "toc_cell": true,
   "toc_section_display": "block",
   "toc_window_display": false
  }
 },
 "nbformat": 4,
 "nbformat_minor": 4
}
